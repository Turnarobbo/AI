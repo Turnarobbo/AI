{
 "cells": [
  {
   "cell_type": "code",
   "execution_count": 1,
   "id": "6adc870f",
   "metadata": {},
   "outputs": [
    {
     "name": "stdout",
     "output_type": "stream",
     "text": [
      "[30, 40, 50, 0, 0]\n"
     ]
    }
   ],
   "source": [
    "#1.\n",
    "\n",
    "def shiftLeft(list, k):\n",
    "    for j in range(k):\n",
    "        for i in range(len(L1)-1):\n",
    "             list[i]=list[i+1]\n",
    "    \n",
    "    for i in range(k+1, len(list)):\n",
    "        list[i] = 0\n",
    "    return list\n",
    "\n",
    "L1 = [10, 20, 30, 40, 50]\n",
    "L2=shiftLeft(L1,2)\n",
    "print(L2)"
   ]
  },
  {
   "cell_type": "code",
   "execution_count": 2,
   "id": "caddc1c6",
   "metadata": {},
   "outputs": [
    {
     "name": "stdout",
     "output_type": "stream",
     "text": [
      "[0, 0, 10, 20, 30]\n"
     ]
    }
   ],
   "source": [
    "#2.\n",
    "\n",
    "def shiftRight(List, k):\n",
    "    for j in range(k):\n",
    "        for i in range(len(List) - 1, 0, -1):\n",
    "            List[i] = List[i - 1]\n",
    " \n",
    "    for i in range(k):\n",
    "        List[i] = 0\n",
    "    return List\n",
    " \n",
    "L1 = [10, 20, 30, 40, 50]\n",
    "L2 = shiftRight(L1, 2)\n",
    "print(L2)\n"
   ]
  },
  {
   "cell_type": "code",
   "execution_count": 3,
   "id": "619dfd13",
   "metadata": {},
   "outputs": [
    {
     "name": "stdout",
     "output_type": "stream",
     "text": [
      "[40, 50, 10, 20, 30]\n"
     ]
    }
   ],
   "source": [
    "#3.\n",
    "\n",
    "def rotateLeft(list, k):\n",
    "    for j in range(k):\n",
    "        a=list[0]\n",
    "        for i in range(len(list)-1):\n",
    "            list[i]= list[i+1]\n",
    "        list[-1]=a\n",
    "    return list\n",
    "L1=[10,20,30,40,50]\n",
    "L2=rotateLeft(L1,3)\n",
    "print (L2)\n"
   ]
  },
  {
   "cell_type": "code",
   "execution_count": 5,
   "id": "d673279d",
   "metadata": {},
   "outputs": [
    {
     "name": "stdout",
     "output_type": "stream",
     "text": [
      "[30, 40, 50, 10, 20]\n"
     ]
    }
   ],
   "source": [
    "#4.\n",
    "\n",
    "def rotateRight(List, k):\n",
    "    for j in range(k):\n",
    "        a = List[-1]\n",
    "        for i in range(len(List) - 1, 0, -1):\n",
    "            List[i] = List[i - 1]  \n",
    "        List[0] = a\n",
    "    return List\n",
    "L1 = [10, 20, 30, 40, 50]\n",
    "L2 = rotateRight(L1, 3)\n",
    "print(L2)"
   ]
  },
  {
   "cell_type": "code",
   "execution_count": 6,
   "id": "5f6397a9",
   "metadata": {},
   "outputs": [
    {
     "name": "stdout",
     "output_type": "stream",
     "text": [
      "[10, 20, 30, 50, 60, 0, 70, 80]\n"
     ]
    }
   ],
   "source": [
    "#5.\n",
    "\n",
    "def remove(source, size, idx):\n",
    "    if idx < 0 or idx >= size:\n",
    "        print(\"Invalid index. Please provide a valid index within the array bounds.\")\n",
    "        return\n",
    "    for i in range(idx, size - 1):\n",
    "        source[i] = source[i + 1]\n",
    "    source[size - 1] = 0\n",
    " \n",
    "source = [10, 20, 30, 40, 50, 60, 70,80]\n",
    "remove(source, 6, 3)\n",
    " \n",
    "print(source)"
   ]
  },
  {
   "cell_type": "code",
   "execution_count": 7,
   "id": "9feb09b9",
   "metadata": {},
   "outputs": [
    {
     "name": "stdout",
     "output_type": "stream",
     "text": [
      "[10, 30, 50, 0, 0, 0, 0, 0, 0]\n"
     ]
    }
   ],
   "source": [
    "#6.\n",
    "\n",
    "def removeAll(source, size, element):\n",
    "    new_index = 0\n",
    " \n",
    "    for i in range(size):\n",
    "        if source[i] != element:\n",
    "            source[new_index] = source[i]\n",
    "            new_index += 1\n",
    " \n",
    "    for i in range(new_index, size):\n",
    "        source[i] = 0\n",
    " \n",
    "source = [10, 3, 30, 3, 50, 3, 3, 3, 0]\n",
    "removeAll(source, 8, 3)\n",
    " \n",
    "print(source)"
   ]
  },
  {
   "cell_type": "code",
   "execution_count": null,
   "id": "f7281c8a",
   "metadata": {},
   "outputs": [],
   "source": []
  }
 ],
 "metadata": {
  "kernelspec": {
   "display_name": "Python 3 (ipykernel)",
   "language": "python",
   "name": "python3"
  },
  "language_info": {
   "codemirror_mode": {
    "name": "ipython",
    "version": 3
   },
   "file_extension": ".py",
   "mimetype": "text/x-python",
   "name": "python",
   "nbconvert_exporter": "python",
   "pygments_lexer": "ipython3",
   "version": "3.11.5"
  }
 },
 "nbformat": 4,
 "nbformat_minor": 5
}
